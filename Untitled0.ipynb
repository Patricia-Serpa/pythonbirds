{
  "nbformat": 4,
  "nbformat_minor": 0,
  "metadata": {
    "colab": {
      "name": "Untitled0.ipynb",
      "provenance": [],
      "authorship_tag": "ABX9TyNOinmZ6rzlcZ5b3jYqBkf2",
      "include_colab_link": true
    },
    "kernelspec": {
      "name": "python3",
      "display_name": "Python 3"
    },
    "language_info": {
      "name": "python"
    }
  },
  "cells": [
    {
      "cell_type": "markdown",
      "metadata": {
        "id": "view-in-github",
        "colab_type": "text"
      },
      "source": [
        "<a href=\"https://colab.research.google.com/github/Patricia-Serpa/pythonbirds/blob/diversao/Untitled0.ipynb\" target=\"_parent\"><img src=\"https://colab.research.google.com/assets/colab-badge.svg\" alt=\"Open In Colab\"/></a>"
      ]
    },
    {
      "cell_type": "code",
      "metadata": {
        "id": "5YbH6QkEb18p"
      },
      "source": [
        "# Importar bibliotecas\n",
        "import numpy as np\n",
        "import pandas as pd\n",
        "import matplotlib\n",
        "import matplotlib.pyplot as plt\n",
        "import seaborn as sns"
      ],
      "execution_count": 1,
      "outputs": []
    },
    {
      "cell_type": "code",
      "metadata": {
        "id": "YEJ5Hrn5eXvI"
      },
      "source": [
        "# baixar arquivo\n",
        "df = pd.read_csv('/content/dadosRH.csv')"
      ],
      "execution_count": 2,
      "outputs": []
    },
    {
      "cell_type": "code",
      "metadata": {
        "colab": {
          "base_uri": "https://localhost:8080/",
          "height": 258
        },
        "id": "CkalX1WEfN7K",
        "outputId": "c9f21c50-5ebf-451d-bec6-c0a1720ed96c"
      },
      "source": [
        "# Visualizar arquivo\n",
        "df.head()"
      ],
      "execution_count": 3,
      "outputs": [
        {
          "output_type": "execute_result",
          "data": {
            "text/html": [
              "<div>\n",
              "<style scoped>\n",
              "    .dataframe tbody tr th:only-of-type {\n",
              "        vertical-align: middle;\n",
              "    }\n",
              "\n",
              "    .dataframe tbody tr th {\n",
              "        vertical-align: top;\n",
              "    }\n",
              "\n",
              "    .dataframe thead th {\n",
              "        text-align: right;\n",
              "    }\n",
              "</style>\n",
              "<table border=\"1\" class=\"dataframe\">\n",
              "  <thead>\n",
              "    <tr style=\"text-align: right;\">\n",
              "      <th></th>\n",
              "      <th>id_funcionario</th>\n",
              "      <th>departmento</th>\n",
              "      <th>regiao</th>\n",
              "      <th>educacao</th>\n",
              "      <th>genero</th>\n",
              "      <th>canal_recrutamento</th>\n",
              "      <th>numero_treinamentos</th>\n",
              "      <th>idade</th>\n",
              "      <th>aval_ano_anterior</th>\n",
              "      <th>tempo_servico</th>\n",
              "      <th>promovido</th>\n",
              "    </tr>\n",
              "  </thead>\n",
              "  <tbody>\n",
              "    <tr>\n",
              "      <th>0</th>\n",
              "      <td>65438</td>\n",
              "      <td>Marketing</td>\n",
              "      <td>Sudeste</td>\n",
              "      <td>Mestrado ou Doutorado</td>\n",
              "      <td>F</td>\n",
              "      <td>Outsourcing</td>\n",
              "      <td>1</td>\n",
              "      <td>35</td>\n",
              "      <td>5.0</td>\n",
              "      <td>8</td>\n",
              "      <td>0</td>\n",
              "    </tr>\n",
              "    <tr>\n",
              "      <th>1</th>\n",
              "      <td>65141</td>\n",
              "      <td>Logistica</td>\n",
              "      <td>Nordeste</td>\n",
              "      <td>Superior</td>\n",
              "      <td>M</td>\n",
              "      <td>Outro</td>\n",
              "      <td>1</td>\n",
              "      <td>30</td>\n",
              "      <td>5.0</td>\n",
              "      <td>4</td>\n",
              "      <td>0</td>\n",
              "    </tr>\n",
              "    <tr>\n",
              "      <th>2</th>\n",
              "      <td>7513</td>\n",
              "      <td>Marketing</td>\n",
              "      <td>Sudeste</td>\n",
              "      <td>Superior</td>\n",
              "      <td>M</td>\n",
              "      <td>Outsourcing</td>\n",
              "      <td>1</td>\n",
              "      <td>34</td>\n",
              "      <td>3.0</td>\n",
              "      <td>7</td>\n",
              "      <td>0</td>\n",
              "    </tr>\n",
              "    <tr>\n",
              "      <th>3</th>\n",
              "      <td>2542</td>\n",
              "      <td>Marketing</td>\n",
              "      <td>Norte</td>\n",
              "      <td>Superior</td>\n",
              "      <td>M</td>\n",
              "      <td>Outro</td>\n",
              "      <td>2</td>\n",
              "      <td>39</td>\n",
              "      <td>1.0</td>\n",
              "      <td>10</td>\n",
              "      <td>0</td>\n",
              "    </tr>\n",
              "    <tr>\n",
              "      <th>4</th>\n",
              "      <td>48945</td>\n",
              "      <td>Tecnologia</td>\n",
              "      <td>Nordeste</td>\n",
              "      <td>Superior</td>\n",
              "      <td>M</td>\n",
              "      <td>Outro</td>\n",
              "      <td>1</td>\n",
              "      <td>45</td>\n",
              "      <td>3.0</td>\n",
              "      <td>2</td>\n",
              "      <td>0</td>\n",
              "    </tr>\n",
              "  </tbody>\n",
              "</table>\n",
              "</div>"
            ],
            "text/plain": [
              "   id_funcionario departmento  ... tempo_servico promovido\n",
              "0           65438   Marketing  ...             8         0\n",
              "1           65141   Logistica  ...             4         0\n",
              "2            7513   Marketing  ...             7         0\n",
              "3            2542   Marketing  ...            10         0\n",
              "4           48945  Tecnologia  ...             2         0\n",
              "\n",
              "[5 rows x 11 columns]"
            ]
          },
          "metadata": {},
          "execution_count": 3
        }
      ]
    },
    {
      "cell_type": "code",
      "metadata": {
        "colab": {
          "base_uri": "https://localhost:8080/"
        },
        "id": "OAGpGz5yf6nX",
        "outputId": "394edfbc-4297-480f-ee76-9d72337d00f9"
      },
      "source": [
        "df.shape"
      ],
      "execution_count": 4,
      "outputs": [
        {
          "output_type": "execute_result",
          "data": {
            "text/plain": [
              "(54808, 11)"
            ]
          },
          "metadata": {},
          "execution_count": 4
        }
      ]
    },
    {
      "cell_type": "code",
      "metadata": {
        "id": "r9bJiixANW5o"
      },
      "source": [
        ""
      ],
      "execution_count": 4,
      "outputs": []
    },
    {
      "cell_type": "markdown",
      "metadata": {
        "id": "EdKKpcDRNZDZ"
      },
      "source": [
        "## **Análise Exploratória. Limpeza e Transformação de Dados**"
      ]
    },
    {
      "cell_type": "code",
      "metadata": {
        "colab": {
          "base_uri": "https://localhost:8080/"
        },
        "id": "YOLpxEU_f_1S",
        "outputId": "c33d4eb6-2394-4eb4-e45b-1d8c820167bb"
      },
      "source": [
        "# Visualizar valores ausentes\n",
        "df.isnull().sum()"
      ],
      "execution_count": 5,
      "outputs": [
        {
          "output_type": "execute_result",
          "data": {
            "text/plain": [
              "id_funcionario            0\n",
              "departmento               0\n",
              "regiao                    0\n",
              "educacao               2409\n",
              "genero                    0\n",
              "canal_recrutamento        0\n",
              "numero_treinamentos       0\n",
              "idade                     0\n",
              "aval_ano_anterior      4124\n",
              "tempo_servico             0\n",
              "promovido                 0\n",
              "dtype: int64"
            ]
          },
          "metadata": {},
          "execution_count": 5
        }
      ]
    },
    {
      "cell_type": "code",
      "metadata": {
        "colab": {
          "base_uri": "https://localhost:8080/",
          "height": 244
        },
        "id": "frcEN0peN4fq",
        "outputId": "7a9ca553-5a3b-4a6a-c6b2-fd1c3b08f306"
      },
      "source": [
        "df.groupby(['educacao']).count()"
      ],
      "execution_count": 6,
      "outputs": [
        {
          "output_type": "execute_result",
          "data": {
            "text/html": [
              "<div>\n",
              "<style scoped>\n",
              "    .dataframe tbody tr th:only-of-type {\n",
              "        vertical-align: middle;\n",
              "    }\n",
              "\n",
              "    .dataframe tbody tr th {\n",
              "        vertical-align: top;\n",
              "    }\n",
              "\n",
              "    .dataframe thead th {\n",
              "        text-align: right;\n",
              "    }\n",
              "</style>\n",
              "<table border=\"1\" class=\"dataframe\">\n",
              "  <thead>\n",
              "    <tr style=\"text-align: right;\">\n",
              "      <th></th>\n",
              "      <th>id_funcionario</th>\n",
              "      <th>departmento</th>\n",
              "      <th>regiao</th>\n",
              "      <th>genero</th>\n",
              "      <th>canal_recrutamento</th>\n",
              "      <th>numero_treinamentos</th>\n",
              "      <th>idade</th>\n",
              "      <th>aval_ano_anterior</th>\n",
              "      <th>tempo_servico</th>\n",
              "      <th>promovido</th>\n",
              "    </tr>\n",
              "    <tr>\n",
              "      <th>educacao</th>\n",
              "      <th></th>\n",
              "      <th></th>\n",
              "      <th></th>\n",
              "      <th></th>\n",
              "      <th></th>\n",
              "      <th></th>\n",
              "      <th></th>\n",
              "      <th></th>\n",
              "      <th></th>\n",
              "      <th></th>\n",
              "    </tr>\n",
              "  </thead>\n",
              "  <tbody>\n",
              "    <tr>\n",
              "      <th>Ensino Medio</th>\n",
              "      <td>805</td>\n",
              "      <td>805</td>\n",
              "      <td>805</td>\n",
              "      <td>805</td>\n",
              "      <td>805</td>\n",
              "      <td>805</td>\n",
              "      <td>805</td>\n",
              "      <td>458</td>\n",
              "      <td>805</td>\n",
              "      <td>805</td>\n",
              "    </tr>\n",
              "    <tr>\n",
              "      <th>Mestrado ou Doutorado</th>\n",
              "      <td>14925</td>\n",
              "      <td>14925</td>\n",
              "      <td>14925</td>\n",
              "      <td>14925</td>\n",
              "      <td>14925</td>\n",
              "      <td>14925</td>\n",
              "      <td>14925</td>\n",
              "      <td>14798</td>\n",
              "      <td>14925</td>\n",
              "      <td>14925</td>\n",
              "    </tr>\n",
              "    <tr>\n",
              "      <th>Superior</th>\n",
              "      <td>36669</td>\n",
              "      <td>36669</td>\n",
              "      <td>36669</td>\n",
              "      <td>36669</td>\n",
              "      <td>36669</td>\n",
              "      <td>36669</td>\n",
              "      <td>36669</td>\n",
              "      <td>33404</td>\n",
              "      <td>36669</td>\n",
              "      <td>36669</td>\n",
              "    </tr>\n",
              "  </tbody>\n",
              "</table>\n",
              "</div>"
            ],
            "text/plain": [
              "                       id_funcionario  departmento  ...  tempo_servico  promovido\n",
              "educacao                                            ...                          \n",
              "Ensino Medio                      805          805  ...            805        805\n",
              "Mestrado ou Doutorado           14925        14925  ...          14925      14925\n",
              "Superior                        36669        36669  ...          36669      36669\n",
              "\n",
              "[3 rows x 10 columns]"
            ]
          },
          "metadata": {},
          "execution_count": 6
        }
      ]
    },
    {
      "cell_type": "code",
      "metadata": {
        "colab": {
          "base_uri": "https://localhost:8080/",
          "height": 350
        },
        "id": "S87YEeRZPInn",
        "outputId": "e18a2958-2c59-4807-fe23-f5f727eb2197"
      },
      "source": [
        "sns.countplot(df['educacao'])"
      ],
      "execution_count": 7,
      "outputs": [
        {
          "output_type": "stream",
          "name": "stderr",
          "text": [
            "/usr/local/lib/python3.7/dist-packages/seaborn/_decorators.py:43: FutureWarning: Pass the following variable as a keyword arg: x. From version 0.12, the only valid positional argument will be `data`, and passing other arguments without an explicit keyword will result in an error or misinterpretation.\n",
            "  FutureWarning\n"
          ]
        },
        {
          "output_type": "execute_result",
          "data": {
            "text/plain": [
              "<matplotlib.axes._subplots.AxesSubplot at 0x7f60d5a6b1d0>"
            ]
          },
          "metadata": {},
          "execution_count": 7
        },
        {
          "output_type": "display_data",
          "data": {
            "image/png": "[encoded data removed]",
            "text/plain": [
              "<Figure size 432x288 with 1 Axes>"
            ]
          },
          "metadata": {
            "needs_background": "light"
          }
        }
      ]
    },
    {
      "cell_type": "code",
      "metadata": {
        "colab": {
          "base_uri": "https://localhost:8080/",
          "height": 255
        },
        "id": "uE5XfVUIPghL",
        "outputId": "f1bc7b95-869a-4c03-e975-ac5cceddb7c9"
      },
      "source": [
        "df.groupby(['aval_ano_anterior']).count()"
      ],
      "execution_count": 8,
      "outputs": [
        {
          "output_type": "execute_result",
          "data": {
            "text/html": [
              "<div>\n",
              "<style scoped>\n",
              "    .dataframe tbody tr th:only-of-type {\n",
              "        vertical-align: middle;\n",
              "    }\n",
              "\n",
              "    .dataframe tbody tr th {\n",
              "        vertical-align: top;\n",
              "    }\n",
              "\n",
              "    .dataframe thead th {\n",
              "        text-align: right;\n",
              "    }\n",
              "</style>\n",
              "<table border=\"1\" class=\"dataframe\">\n",
              "  <thead>\n",
              "    <tr style=\"text-align: right;\">\n",
              "      <th></th>\n",
              "      <th>id_funcionario</th>\n",
              "      <th>departmento</th>\n",
              "      <th>regiao</th>\n",
              "      <th>educacao</th>\n",
              "      <th>genero</th>\n",
              "      <th>canal_recrutamento</th>\n",
              "      <th>numero_treinamentos</th>\n",
              "      <th>idade</th>\n",
              "      <th>tempo_servico</th>\n",
              "      <th>promovido</th>\n",
              "    </tr>\n",
              "    <tr>\n",
              "      <th>aval_ano_anterior</th>\n",
              "      <th></th>\n",
              "      <th></th>\n",
              "      <th></th>\n",
              "      <th></th>\n",
              "      <th></th>\n",
              "      <th></th>\n",
              "      <th></th>\n",
              "      <th></th>\n",
              "      <th></th>\n",
              "      <th></th>\n",
              "    </tr>\n",
              "  </thead>\n",
              "  <tbody>\n",
              "    <tr>\n",
              "      <th>1.0</th>\n",
              "      <td>6223</td>\n",
              "      <td>6223</td>\n",
              "      <td>6223</td>\n",
              "      <td>5887</td>\n",
              "      <td>6223</td>\n",
              "      <td>6223</td>\n",
              "      <td>6223</td>\n",
              "      <td>6223</td>\n",
              "      <td>6223</td>\n",
              "      <td>6223</td>\n",
              "    </tr>\n",
              "    <tr>\n",
              "      <th>2.0</th>\n",
              "      <td>4225</td>\n",
              "      <td>4225</td>\n",
              "      <td>4225</td>\n",
              "      <td>4035</td>\n",
              "      <td>4225</td>\n",
              "      <td>4225</td>\n",
              "      <td>4225</td>\n",
              "      <td>4225</td>\n",
              "      <td>4225</td>\n",
              "      <td>4225</td>\n",
              "    </tr>\n",
              "    <tr>\n",
              "      <th>3.0</th>\n",
              "      <td>18618</td>\n",
              "      <td>18618</td>\n",
              "      <td>18618</td>\n",
              "      <td>17867</td>\n",
              "      <td>18618</td>\n",
              "      <td>18618</td>\n",
              "      <td>18618</td>\n",
              "      <td>18618</td>\n",
              "      <td>18618</td>\n",
              "      <td>18618</td>\n",
              "    </tr>\n",
              "    <tr>\n",
              "      <th>4.0</th>\n",
              "      <td>9877</td>\n",
              "      <td>9877</td>\n",
              "      <td>9877</td>\n",
              "      <td>9509</td>\n",
              "      <td>9877</td>\n",
              "      <td>9877</td>\n",
              "      <td>9877</td>\n",
              "      <td>9877</td>\n",
              "      <td>9877</td>\n",
              "      <td>9877</td>\n",
              "    </tr>\n",
              "    <tr>\n",
              "      <th>5.0</th>\n",
              "      <td>11741</td>\n",
              "      <td>11741</td>\n",
              "      <td>11741</td>\n",
              "      <td>11362</td>\n",
              "      <td>11741</td>\n",
              "      <td>11741</td>\n",
              "      <td>11741</td>\n",
              "      <td>11741</td>\n",
              "      <td>11741</td>\n",
              "      <td>11741</td>\n",
              "    </tr>\n",
              "  </tbody>\n",
              "</table>\n",
              "</div>"
            ],
            "text/plain": [
              "                   id_funcionario  departmento  ...  tempo_servico  promovido\n",
              "aval_ano_anterior                               ...                          \n",
              "1.0                          6223         6223  ...           6223       6223\n",
              "2.0                          4225         4225  ...           4225       4225\n",
              "3.0                         18618        18618  ...          18618      18618\n",
              "4.0                          9877         9877  ...           9877       9877\n",
              "5.0                         11741        11741  ...          11741      11741\n",
              "\n",
              "[5 rows x 10 columns]"
            ]
          },
          "metadata": {},
          "execution_count": 8
        }
      ]
    },
    {
      "cell_type": "code",
      "metadata": {
        "colab": {
          "base_uri": "https://localhost:8080/",
          "height": 351
        },
        "id": "hBrhTFO_P0TU",
        "outputId": "6c4bceb6-ad06-46f8-aab7-1826ffa0a388"
      },
      "source": [
        "sns.countplot(df['aval_ano_anterior'])"
      ],
      "execution_count": 9,
      "outputs": [
        {
          "output_type": "stream",
          "name": "stderr",
          "text": [
            "/usr/local/lib/python3.7/dist-packages/seaborn/_decorators.py:43: FutureWarning: Pass the following variable as a keyword arg: x. From version 0.12, the only valid positional argument will be `data`, and passing other arguments without an explicit keyword will result in an error or misinterpretation.\n",
            "  FutureWarning\n"
          ]
        },
        {
          "output_type": "execute_result",
          "data": {
            "text/plain": [
              "<matplotlib.axes._subplots.AxesSubplot at 0x7f60c7a34790>"
            ]
          },
          "metadata": {},
          "execution_count": 9
        },
        {
          "output_type": "display_data",
          "data": {
            "image/png": "[encoded data removed]",
            "text/plain": [
              "<Figure size 432x288 with 1 Axes>"
            ]
          },
          "metadata": {
            "needs_background": "light"
          }
        }
      ]
    },
    {
      "cell_type": "markdown",
      "metadata": {
        "id": "fAyQEmqKQmG3"
      },
      "source": [
        "# Preencher os valores ausentes\n",
        "\n",
        "\n"
      ]
    },
    {
      "cell_type": "code",
      "metadata": {
        "id": "DHGrKvTFQrgL"
      },
      "source": [
        "df['educacao'].fillna(df['educacao'].mode()[0], inplace=True)"
      ],
      "execution_count": 10,
      "outputs": []
    },
    {
      "cell_type": "code",
      "metadata": {
        "id": "1sHWbTVHRlMn"
      },
      "source": [
        "df['aval_ano_anterior'].fillna(df['aval_ano_anterior'].median(), inplace=True)"
      ],
      "execution_count": 11,
      "outputs": []
    },
    {
      "cell_type": "code",
      "metadata": {
        "id": "cumcBXdjRq5n",
        "colab": {
          "base_uri": "https://localhost:8080/"
        },
        "outputId": "f4f834bd-a94c-4e29-bb9e-ba66326f5890"
      },
      "source": [
        "df.isnull().sum()"
      ],
      "execution_count": 12,
      "outputs": [
        {
          "output_type": "execute_result",
          "data": {
            "text/plain": [
              "id_funcionario         0\n",
              "departmento            0\n",
              "regiao                 0\n",
              "educacao               0\n",
              "genero                 0\n",
              "canal_recrutamento     0\n",
              "numero_treinamentos    0\n",
              "idade                  0\n",
              "aval_ano_anterior      0\n",
              "tempo_servico          0\n",
              "promovido              0\n",
              "dtype: int64"
            ]
          },
          "metadata": {},
          "execution_count": 12
        }
      ]
    },
    {
      "cell_type": "code",
      "metadata": {
        "colab": {
          "base_uri": "https://localhost:8080/",
          "height": 244
        },
        "id": "Id4cDAEn0xm-",
        "outputId": "ddc1346f-5716-4d39-9e7f-7af85ed448e0"
      },
      "source": [
        "df.groupby(['educacao']).count()"
      ],
      "execution_count": 13,
      "outputs": [
        {
          "output_type": "execute_result",
          "data": {
            "text/html": [
              "<div>\n",
              "<style scoped>\n",
              "    .dataframe tbody tr th:only-of-type {\n",
              "        vertical-align: middle;\n",
              "    }\n",
              "\n",
              "    .dataframe tbody tr th {\n",
              "        vertical-align: top;\n",
              "    }\n",
              "\n",
              "    .dataframe thead th {\n",
              "        text-align: right;\n",
              "    }\n",
              "</style>\n",
              "<table border=\"1\" class=\"dataframe\">\n",
              "  <thead>\n",
              "    <tr style=\"text-align: right;\">\n",
              "      <th></th>\n",
              "      <th>id_funcionario</th>\n",
              "      <th>departmento</th>\n",
              "      <th>regiao</th>\n",
              "      <th>genero</th>\n",
              "      <th>canal_recrutamento</th>\n",
              "      <th>numero_treinamentos</th>\n",
              "      <th>idade</th>\n",
              "      <th>aval_ano_anterior</th>\n",
              "      <th>tempo_servico</th>\n",
              "      <th>promovido</th>\n",
              "    </tr>\n",
              "    <tr>\n",
              "      <th>educacao</th>\n",
              "      <th></th>\n",
              "      <th></th>\n",
              "      <th></th>\n",
              "      <th></th>\n",
              "      <th></th>\n",
              "      <th></th>\n",
              "      <th></th>\n",
              "      <th></th>\n",
              "      <th></th>\n",
              "      <th></th>\n",
              "    </tr>\n",
              "  </thead>\n",
              "  <tbody>\n",
              "    <tr>\n",
              "      <th>Ensino Medio</th>\n",
              "      <td>805</td>\n",
              "      <td>805</td>\n",
              "      <td>805</td>\n",
              "      <td>805</td>\n",
              "      <td>805</td>\n",
              "      <td>805</td>\n",
              "      <td>805</td>\n",
              "      <td>805</td>\n",
              "      <td>805</td>\n",
              "      <td>805</td>\n",
              "    </tr>\n",
              "    <tr>\n",
              "      <th>Mestrado ou Doutorado</th>\n",
              "      <td>14925</td>\n",
              "      <td>14925</td>\n",
              "      <td>14925</td>\n",
              "      <td>14925</td>\n",
              "      <td>14925</td>\n",
              "      <td>14925</td>\n",
              "      <td>14925</td>\n",
              "      <td>14925</td>\n",
              "      <td>14925</td>\n",
              "      <td>14925</td>\n",
              "    </tr>\n",
              "    <tr>\n",
              "      <th>Superior</th>\n",
              "      <td>39078</td>\n",
              "      <td>39078</td>\n",
              "      <td>39078</td>\n",
              "      <td>39078</td>\n",
              "      <td>39078</td>\n",
              "      <td>39078</td>\n",
              "      <td>39078</td>\n",
              "      <td>39078</td>\n",
              "      <td>39078</td>\n",
              "      <td>39078</td>\n",
              "    </tr>\n",
              "  </tbody>\n",
              "</table>\n",
              "</div>"
            ],
            "text/plain": [
              "                       id_funcionario  departmento  ...  tempo_servico  promovido\n",
              "educacao                                            ...                          \n",
              "Ensino Medio                      805          805  ...            805        805\n",
              "Mestrado ou Doutorado           14925        14925  ...          14925      14925\n",
              "Superior                        39078        39078  ...          39078      39078\n",
              "\n",
              "[3 rows x 10 columns]"
            ]
          },
          "metadata": {},
          "execution_count": 13
        }
      ]
    },
    {
      "cell_type": "code",
      "metadata": {
        "colab": {
          "base_uri": "https://localhost:8080/",
          "height": 255
        },
        "id": "ZdiR9Bw41gtp",
        "outputId": "e915d58a-6277-48de-b836-7a2bd9875e42"
      },
      "source": [
        "df.groupby(['aval_ano_anterior']).count()"
      ],
      "execution_count": 14,
      "outputs": [
        {
          "output_type": "execute_result",
          "data": {
            "text/html": [
              "<div>\n",
              "<style scoped>\n",
              "    .dataframe tbody tr th:only-of-type {\n",
              "        vertical-align: middle;\n",
              "    }\n",
              "\n",
              "    .dataframe tbody tr th {\n",
              "        vertical-align: top;\n",
              "    }\n",
              "\n",
              "    .dataframe thead th {\n",
              "        text-align: right;\n",
              "    }\n",
              "</style>\n",
              "<table border=\"1\" class=\"dataframe\">\n",
              "  <thead>\n",
              "    <tr style=\"text-align: right;\">\n",
              "      <th></th>\n",
              "      <th>id_funcionario</th>\n",
              "      <th>departmento</th>\n",
              "      <th>regiao</th>\n",
              "      <th>educacao</th>\n",
              "      <th>genero</th>\n",
              "      <th>canal_recrutamento</th>\n",
              "      <th>numero_treinamentos</th>\n",
              "      <th>idade</th>\n",
              "      <th>tempo_servico</th>\n",
              "      <th>promovido</th>\n",
              "    </tr>\n",
              "    <tr>\n",
              "      <th>aval_ano_anterior</th>\n",
              "      <th></th>\n",
              "      <th></th>\n",
              "      <th></th>\n",
              "      <th></th>\n",
              "      <th></th>\n",
              "      <th></th>\n",
              "      <th></th>\n",
              "      <th></th>\n",
              "      <th></th>\n",
              "      <th></th>\n",
              "    </tr>\n",
              "  </thead>\n",
              "  <tbody>\n",
              "    <tr>\n",
              "      <th>1.0</th>\n",
              "      <td>6223</td>\n",
              "      <td>6223</td>\n",
              "      <td>6223</td>\n",
              "      <td>6223</td>\n",
              "      <td>6223</td>\n",
              "      <td>6223</td>\n",
              "      <td>6223</td>\n",
              "      <td>6223</td>\n",
              "      <td>6223</td>\n",
              "      <td>6223</td>\n",
              "    </tr>\n",
              "    <tr>\n",
              "      <th>2.0</th>\n",
              "      <td>4225</td>\n",
              "      <td>4225</td>\n",
              "      <td>4225</td>\n",
              "      <td>4225</td>\n",
              "      <td>4225</td>\n",
              "      <td>4225</td>\n",
              "      <td>4225</td>\n",
              "      <td>4225</td>\n",
              "      <td>4225</td>\n",
              "      <td>4225</td>\n",
              "    </tr>\n",
              "    <tr>\n",
              "      <th>3.0</th>\n",
              "      <td>22742</td>\n",
              "      <td>22742</td>\n",
              "      <td>22742</td>\n",
              "      <td>22742</td>\n",
              "      <td>22742</td>\n",
              "      <td>22742</td>\n",
              "      <td>22742</td>\n",
              "      <td>22742</td>\n",
              "      <td>22742</td>\n",
              "      <td>22742</td>\n",
              "    </tr>\n",
              "    <tr>\n",
              "      <th>4.0</th>\n",
              "      <td>9877</td>\n",
              "      <td>9877</td>\n",
              "      <td>9877</td>\n",
              "      <td>9877</td>\n",
              "      <td>9877</td>\n",
              "      <td>9877</td>\n",
              "      <td>9877</td>\n",
              "      <td>9877</td>\n",
              "      <td>9877</td>\n",
              "      <td>9877</td>\n",
              "    </tr>\n",
              "    <tr>\n",
              "      <th>5.0</th>\n",
              "      <td>11741</td>\n",
              "      <td>11741</td>\n",
              "      <td>11741</td>\n",
              "      <td>11741</td>\n",
              "      <td>11741</td>\n",
              "      <td>11741</td>\n",
              "      <td>11741</td>\n",
              "      <td>11741</td>\n",
              "      <td>11741</td>\n",
              "      <td>11741</td>\n",
              "    </tr>\n",
              "  </tbody>\n",
              "</table>\n",
              "</div>"
            ],
            "text/plain": [
              "                   id_funcionario  departmento  ...  tempo_servico  promovido\n",
              "aval_ano_anterior                               ...                          \n",
              "1.0                          6223         6223  ...           6223       6223\n",
              "2.0                          4225         4225  ...           4225       4225\n",
              "3.0                         22742        22742  ...          22742      22742\n",
              "4.0                          9877         9877  ...           9877       9877\n",
              "5.0                         11741        11741  ...          11741      11741\n",
              "\n",
              "[5 rows x 10 columns]"
            ]
          },
          "metadata": {},
          "execution_count": 14
        }
      ]
    },
    {
      "cell_type": "code",
      "metadata": {
        "colab": {
          "base_uri": "https://localhost:8080/",
          "height": 162
        },
        "id": "zJa9F36r1kuY",
        "outputId": "d2210c6b-0888-446f-9b6c-ccc823fb3530"
      },
      "source": [
        "df.groupby(['promovido']).count()"
      ],
      "execution_count": 15,
      "outputs": [
        {
          "output_type": "execute_result",
          "data": {
            "text/html": [
              "<div>\n",
              "<style scoped>\n",
              "    .dataframe tbody tr th:only-of-type {\n",
              "        vertical-align: middle;\n",
              "    }\n",
              "\n",
              "    .dataframe tbody tr th {\n",
              "        vertical-align: top;\n",
              "    }\n",
              "\n",
              "    .dataframe thead th {\n",
              "        text-align: right;\n",
              "    }\n",
              "</style>\n",
              "<table border=\"1\" class=\"dataframe\">\n",
              "  <thead>\n",
              "    <tr style=\"text-align: right;\">\n",
              "      <th></th>\n",
              "      <th>id_funcionario</th>\n",
              "      <th>departmento</th>\n",
              "      <th>regiao</th>\n",
              "      <th>educacao</th>\n",
              "      <th>genero</th>\n",
              "      <th>canal_recrutamento</th>\n",
              "      <th>numero_treinamentos</th>\n",
              "      <th>idade</th>\n",
              "      <th>aval_ano_anterior</th>\n",
              "      <th>tempo_servico</th>\n",
              "    </tr>\n",
              "    <tr>\n",
              "      <th>promovido</th>\n",
              "      <th></th>\n",
              "      <th></th>\n",
              "      <th></th>\n",
              "      <th></th>\n",
              "      <th></th>\n",
              "      <th></th>\n",
              "      <th></th>\n",
              "      <th></th>\n",
              "      <th></th>\n",
              "      <th></th>\n",
              "    </tr>\n",
              "  </thead>\n",
              "  <tbody>\n",
              "    <tr>\n",
              "      <th>0</th>\n",
              "      <td>50140</td>\n",
              "      <td>50140</td>\n",
              "      <td>50140</td>\n",
              "      <td>50140</td>\n",
              "      <td>50140</td>\n",
              "      <td>50140</td>\n",
              "      <td>50140</td>\n",
              "      <td>50140</td>\n",
              "      <td>50140</td>\n",
              "      <td>50140</td>\n",
              "    </tr>\n",
              "    <tr>\n",
              "      <th>1</th>\n",
              "      <td>4668</td>\n",
              "      <td>4668</td>\n",
              "      <td>4668</td>\n",
              "      <td>4668</td>\n",
              "      <td>4668</td>\n",
              "      <td>4668</td>\n",
              "      <td>4668</td>\n",
              "      <td>4668</td>\n",
              "      <td>4668</td>\n",
              "      <td>4668</td>\n",
              "    </tr>\n",
              "  </tbody>\n",
              "</table>\n",
              "</div>"
            ],
            "text/plain": [
              "           id_funcionario  departmento  ...  aval_ano_anterior  tempo_servico\n",
              "promovido                               ...                                  \n",
              "0                   50140        50140  ...              50140          50140\n",
              "1                    4668         4668  ...               4668           4668\n",
              "\n",
              "[2 rows x 10 columns]"
            ]
          },
          "metadata": {},
          "execution_count": 15
        }
      ]
    },
    {
      "cell_type": "code",
      "metadata": {
        "colab": {
          "base_uri": "https://localhost:8080/",
          "height": 350
        },
        "id": "SvJzhg2y53Rt",
        "outputId": "2baf70df-235e-48f4-8ec3-bf08cba334e1"
      },
      "source": [
        "sns.countplot(df['promovido'])"
      ],
      "execution_count": 16,
      "outputs": [
        {
          "output_type": "stream",
          "name": "stderr",
          "text": [
            "/usr/local/lib/python3.7/dist-packages/seaborn/_decorators.py:43: FutureWarning: Pass the following variable as a keyword arg: x. From version 0.12, the only valid positional argument will be `data`, and passing other arguments without an explicit keyword will result in an error or misinterpretation.\n",
            "  FutureWarning\n"
          ]
        },
        {
          "output_type": "execute_result",
          "data": {
            "text/plain": [
              "<matplotlib.axes._subplots.AxesSubplot at 0x7f60c7511790>"
            ]
          },
          "metadata": {},
          "execution_count": 16
        },
        {
          "output_type": "display_data",
          "data": {
            "image/png": "[encoded data removed]",
            "text/plain": [
              "<Figure size 432x288 with 1 Axes>"
            ]
          },
          "metadata": {
            "needs_background": "light"
          }
        }
      ]
    },
    {
      "cell_type": "code",
      "metadata": {
        "id": "2iZaF7fE6TEC"
      },
      "source": [
        "df_classe_majoritaria = df[df.promovido == 0]\n",
        "df_classe_minoritaria = df[df.promovido == 1]"
      ],
      "execution_count": 17,
      "outputs": []
    },
    {
      "cell_type": "code",
      "metadata": {
        "colab": {
          "base_uri": "https://localhost:8080/"
        },
        "id": "mlu1yKPPssU9",
        "outputId": "467497be-3f6c-4082-f896-00653a6a9586"
      },
      "source": [
        "df_classe_majoritaria.shape"
      ],
      "execution_count": 18,
      "outputs": [
        {
          "output_type": "execute_result",
          "data": {
            "text/plain": [
              "(50140, 11)"
            ]
          },
          "metadata": {},
          "execution_count": 18
        }
      ]
    },
    {
      "cell_type": "code",
      "metadata": {
        "colab": {
          "base_uri": "https://localhost:8080/"
        },
        "id": "R9TNJvxes041",
        "outputId": "9af716a8-410a-42eb-c9ab-c206a22c2958"
      },
      "source": [
        "df_classe_minoritaria.shape"
      ],
      "execution_count": 20,
      "outputs": [
        {
          "output_type": "execute_result",
          "data": {
            "text/plain": [
              "(4668, 11)"
            ]
          },
          "metadata": {},
          "execution_count": 20
        }
      ]
    },
    {
      "cell_type": "code",
      "metadata": {
        "colab": {
          "base_uri": "https://localhost:8080/",
          "height": 258
        },
        "id": "i2RTLmLq3MR9",
        "outputId": "86e4623e-4065-488a-c4d3-b1781828acc8"
      },
      "source": [
        "dataset = pd.read_csv('/content/dadosRH_modificado.csv')\n",
        "dataset.head()"
      ],
      "execution_count": 22,
      "outputs": [
        {
          "output_type": "execute_result",
          "data": {
            "text/html": [
              "<div>\n",
              "<style scoped>\n",
              "    .dataframe tbody tr th:only-of-type {\n",
              "        vertical-align: middle;\n",
              "    }\n",
              "\n",
              "    .dataframe tbody tr th {\n",
              "        vertical-align: top;\n",
              "    }\n",
              "\n",
              "    .dataframe thead th {\n",
              "        text-align: right;\n",
              "    }\n",
              "</style>\n",
              "<table border=\"1\" class=\"dataframe\">\n",
              "  <thead>\n",
              "    <tr style=\"text-align: right;\">\n",
              "      <th></th>\n",
              "      <th>id_funcionario</th>\n",
              "      <th>departmento</th>\n",
              "      <th>regiao</th>\n",
              "      <th>educacao</th>\n",
              "      <th>genero</th>\n",
              "      <th>canal_recrutamento</th>\n",
              "      <th>numero_treinamentos</th>\n",
              "      <th>idade</th>\n",
              "      <th>aval_ano_anterior</th>\n",
              "      <th>tempo_servico</th>\n",
              "      <th>promovido</th>\n",
              "    </tr>\n",
              "  </thead>\n",
              "  <tbody>\n",
              "    <tr>\n",
              "      <th>0</th>\n",
              "      <td>65438</td>\n",
              "      <td>Marketing</td>\n",
              "      <td>Sudeste</td>\n",
              "      <td>Mestrado ou Doutorado</td>\n",
              "      <td>F</td>\n",
              "      <td>Outsourcing</td>\n",
              "      <td>1</td>\n",
              "      <td>35</td>\n",
              "      <td>5.0</td>\n",
              "      <td>8</td>\n",
              "      <td>0</td>\n",
              "    </tr>\n",
              "    <tr>\n",
              "      <th>1</th>\n",
              "      <td>65141</td>\n",
              "      <td>Logistica</td>\n",
              "      <td>Nordeste</td>\n",
              "      <td>Superior</td>\n",
              "      <td>M</td>\n",
              "      <td>Outro</td>\n",
              "      <td>1</td>\n",
              "      <td>30</td>\n",
              "      <td>5.0</td>\n",
              "      <td>4</td>\n",
              "      <td>0</td>\n",
              "    </tr>\n",
              "    <tr>\n",
              "      <th>2</th>\n",
              "      <td>7513</td>\n",
              "      <td>Marketing</td>\n",
              "      <td>Sudeste</td>\n",
              "      <td>Superior</td>\n",
              "      <td>M</td>\n",
              "      <td>Outsourcing</td>\n",
              "      <td>1</td>\n",
              "      <td>34</td>\n",
              "      <td>3.0</td>\n",
              "      <td>7</td>\n",
              "      <td>0</td>\n",
              "    </tr>\n",
              "    <tr>\n",
              "      <th>3</th>\n",
              "      <td>2542</td>\n",
              "      <td>Marketing</td>\n",
              "      <td>Norte</td>\n",
              "      <td>Superior</td>\n",
              "      <td>M</td>\n",
              "      <td>Outro</td>\n",
              "      <td>2</td>\n",
              "      <td>39</td>\n",
              "      <td>1.0</td>\n",
              "      <td>10</td>\n",
              "      <td>0</td>\n",
              "    </tr>\n",
              "    <tr>\n",
              "      <th>4</th>\n",
              "      <td>48945</td>\n",
              "      <td>Tecnologia</td>\n",
              "      <td>Nordeste</td>\n",
              "      <td>Superior</td>\n",
              "      <td>M</td>\n",
              "      <td>Outro</td>\n",
              "      <td>1</td>\n",
              "      <td>45</td>\n",
              "      <td>3.0</td>\n",
              "      <td>2</td>\n",
              "      <td>0</td>\n",
              "    </tr>\n",
              "  </tbody>\n",
              "</table>\n",
              "</div>"
            ],
            "text/plain": [
              "   id_funcionario departmento  ... tempo_servico promovido\n",
              "0           65438   Marketing  ...             8         0\n",
              "1           65141   Logistica  ...             4         0\n",
              "2            7513   Marketing  ...             7         0\n",
              "3            2542   Marketing  ...            10         0\n",
              "4           48945  Tecnologia  ...             2         0\n",
              "\n",
              "[5 rows x 11 columns]"
            ]
          },
          "metadata": {},
          "execution_count": 22
        }
      ]
    },
    {
      "cell_type": "code",
      "metadata": {
        "colab": {
          "base_uri": "https://localhost:8080/"
        },
        "id": "nT663lLh3iL1",
        "outputId": "92d399de-b83d-4061-c08e-7b8154b6dd9b"
      },
      "source": [
        "dataset.shape"
      ],
      "execution_count": 23,
      "outputs": [
        {
          "output_type": "execute_result",
          "data": {
            "text/plain": [
              "(100280, 11)"
            ]
          },
          "metadata": {},
          "execution_count": 23
        }
      ]
    },
    {
      "cell_type": "markdown",
      "metadata": {
        "id": "f7asjlzQ4m-d"
      },
      "source": [
        "### Pergunta 1 : Qual o Tempo de Serviço da maioria dos Funcionários?"
      ]
    },
    {
      "cell_type": "code",
      "metadata": {
        "colab": {
          "base_uri": "https://localhost:8080/",
          "height": 357
        },
        "id": "6ThuKIzt7kwi",
        "outputId": "f3db4f91-c468-4050-a486-dc48a643695c"
      },
      "source": [
        "import matplotlib.pyplot as plt\n",
        "import seaborn as sns\n",
        "sns.distplot(dataset['tempo_servico'], color='green')\n",
        "plt.title('Distribuicao do Tempo de Serviço dos Funcionários', fontsize = 15)\n",
        "plt.xlabel('Tempo de Serviços em Ano', fontsize = 15)\n",
        "plt.ylabel('Total')\n",
        "plt.show();"
      ],
      "execution_count": 28,
      "outputs": [
        {
          "output_type": "stream",
          "name": "stderr",
          "text": [
            "/usr/local/lib/python3.7/dist-packages/seaborn/distributions.py:2619: FutureWarning: `distplot` is a deprecated function and will be removed in a future version. Please adapt your code to use either `displot` (a figure-level function with similar flexibility) or `histplot` (an axes-level function for histograms).\n",
            "  warnings.warn(msg, FutureWarning)\n"
          ]
        },
        {
          "output_type": "display_data",
          "data": {
            "image/png": "[encoded data removed]",
            "text/plain": [
              "<Figure size 432x288 with 1 Axes>"
            ]
          },
          "metadata": {
            "needs_background": "light"
          }
        }
      ]
    },
    {
      "cell_type": "markdown",
      "metadata": {
        "id": "FqrUXRzQ9X9I"
      },
      "source": [
        "Qual Avaliação do Ano anterior foi mais comum?"
      ]
    },
    {
      "cell_type": "code",
      "metadata": {
        "colab": {
          "base_uri": "https://localhost:8080/",
          "height": 364
        },
        "id": "4LpU-pwu9a4G",
        "outputId": "cf9f28ea-0e71-4d1c-8eff-9514980d4b7c"
      },
      "source": [
        "import matplotlib.pyplot as plt\n",
        "import seaborn as sns\n",
        "dataset['aval_ano_anterior'].value_counts().sort_values().plot.bar(color='blue', figsize = (10,5))\n",
        "plt.title('Distribuicao do Tempo de Serviço dos Funcionários', fontsize = 15)\n",
        "plt.xlabel('Avaliações', fontsize = 15)\n",
        "plt.ylabel('Total')\n",
        "plt.show();"
      ],
      "execution_count": 30,
      "outputs": [
        {
          "output_type": "display_data",
          "data": {
            "image/png": "[encoded data removed]",
            "text/plain": [
              "<Figure size 720x360 with 1 Axes>"
            ]
          },
          "metadata": {
            "needs_background": "light"
          }
        }
      ]
    },
    {
      "cell_type": "markdown",
      "metadata": {
        "id": "HlOP5Dvh-0h8"
      },
      "source": [
        "### Qual a Distribuição da Idade dos Funcionários?"
      ]
    },
    {
      "cell_type": "code",
      "metadata": {
        "colab": {
          "base_uri": "https://localhost:8080/",
          "height": 357
        },
        "id": "wruW1vTY_a3M",
        "outputId": "f02b0dde-9db2-484b-a1d2-6ba8e799cd3f"
      },
      "source": [
        "import matplotlib.pyplot as plt\n",
        "import seaborn as sns\n",
        "sns.distplot(dataset['idade'], color='magenta')\n",
        "plt.title('Números de Treinamento feito pelos Funcionários', fontsize = 15)\n",
        "plt.xlabel('Idade', fontsize = 15)\n",
        "plt.ylabel('Total')\n",
        "plt.show();"
      ],
      "execution_count": 33,
      "outputs": [
        {
          "output_type": "stream",
          "name": "stderr",
          "text": [
            "/usr/local/lib/python3.7/dist-packages/seaborn/distributions.py:2619: FutureWarning: `distplot` is a deprecated function and will be removed in a future version. Please adapt your code to use either `displot` (a figure-level function with similar flexibility) or `histplot` (an axes-level function for histograms).\n",
            "  warnings.warn(msg, FutureWarning)\n"
          ]
        },
        {
          "output_type": "display_data",
          "data": {
            "image/png": "[encoded data removed]",
            "text/plain": [
              "<Figure size 432x288 with 1 Axes>"
            ]
          },
          "metadata": {
            "needs_background": "light"
          }
        }
      ]
    },
    {
      "cell_type": "markdown",
      "metadata": {
        "id": "Vr18Vsi6AQkJ"
      },
      "source": [
        "Qual o Número de Treinamentos mais Frequentes?"
      ]
    },
    {
      "cell_type": "code",
      "metadata": {
        "colab": {
          "base_uri": "https://localhost:8080/",
          "height": 357
        },
        "id": "NbmN_YKZAX-u",
        "outputId": "7a0f52d1-450b-4c86-cd08-99768785448d"
      },
      "source": [
        "import matplotlib.pyplot as plt\n",
        "import seaborn as sns\n",
        "sns.violinplot(dataset['numero_treinamentos'], color='red')\n",
        "plt.title('Números de Treinamento feitos pelos Funcionários', fontsize = 15)\n",
        "plt.xlabel('Numero de Treinamentos', fontsize = 15)\n",
        "plt.ylabel('Frequencia')\n",
        "plt.show()"
      ],
      "execution_count": 34,
      "outputs": [
        {
          "output_type": "stream",
          "name": "stderr",
          "text": [
            "/usr/local/lib/python3.7/dist-packages/seaborn/_decorators.py:43: FutureWarning: Pass the following variable as a keyword arg: x. From version 0.12, the only valid positional argument will be `data`, and passing other arguments without an explicit keyword will result in an error or misinterpretation.\n",
            "  FutureWarning\n"
          ]
        },
        {
          "output_type": "display_data",
          "data": {
            "image/png": "[encoded data removed]",
            "text/plain": [
              "<Figure size 432x288 with 1 Axes>"
            ]
          },
          "metadata": {
            "needs_background": "light"
          }
        }
      ]
    },
    {
      "cell_type": "markdown",
      "metadata": {
        "id": "yBa-BJokA_We"
      },
      "source": [
        "Qual a Proporção dos Funcionários por Canal de Recrutamento?"
      ]
    },
    {
      "cell_type": "code",
      "metadata": {
        "colab": {
          "base_uri": "https://localhost:8080/",
          "height": 266
        },
        "id": "5wmOktGpBZUB",
        "outputId": "7977abae-5eaa-4a1d-ea45-6a23aba5f578"
      },
      "source": [
        "import matplotlib.pyplot as plt\n",
        "import seaborn as sns\n",
        "dataset['canal_recrutamento'].value_counts()\n",
        "fatias = [55375, 42358, 2547]\n",
        "labels = 'Outro', 'Outsourcing', 'Indicação'\n",
        "colors = ['purple', 'lime', 'yellow']\n",
        "explode = [0,0,0]\n",
        "plt.pie(fatias, labels = labels, colors = colors, explode = explode, shadow=True, autopct = \"%.2f%%\")\n",
        "plt.title('Percentual de Funcionários Por Canal de Recrutamento', fontsize = 15)\n",
        "plt.axis('off')\n",
        "#plt.legend()\n",
        "plt.show()"
      ],
      "execution_count": 39,
      "outputs": [
        {
          "output_type": "display_data",
          "data": {
            "image/png": "[encoded data removed]",
            "text/plain": [
              "<Figure size 432x288 with 1 Axes>"
            ]
          },
          "metadata": {}
        }
      ]
    },
    {
      "cell_type": "markdown",
      "metadata": {
        "id": "kJ8kgkVYEnKN"
      },
      "source": [
        "Qual a Relação entre a Promoção e a Valiação do Ano Anterior?"
      ]
    },
    {
      "cell_type": "code",
      "metadata": {
        "colab": {
          "base_uri": "https://localhost:8080/",
          "height": 580
        },
        "id": "GlgKxyR2Fgow",
        "outputId": "cc47a322-9745-4cbc-bf46-52e6d1f017c8"
      },
      "source": [
        "import matplotlib.pyplot as plt\n",
        "import seaborn as sns\n",
        "data = pd.crosstab(dataset['aval_ano_anterior'], dataset['promovido'])\n",
        "data.div(data.sum(1).astype(float), axis = 0).plot(kind = 'bar',\n",
        "                                                   stacked = True,\n",
        "                                                   figsize = (16,9),\n",
        "                                                   color = ['blue', 'magenta'])\n",
        "plt.title('Relação entre Avaliação do Ano Anterior e a Promoção', fontsize = 15)\n",
        "plt.xlabel('Avaliação do Ano Anterior', fontsize = 15)\n",
        "plt.legend()\n",
        "plt.show()\n"
      ],
      "execution_count": 41,
      "outputs": [
        {
          "output_type": "display_data",
          "data": {
            "image/png": "[encoded data removed]",
            "text/plain": [
              "<Figure size 1152x648 with 1 Axes>"
            ]
          },
          "metadata": {
            "needs_background": "light"
          }
        }
      ]
    }
  ]
}